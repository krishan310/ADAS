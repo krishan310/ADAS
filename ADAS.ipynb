{
 "cells": [
  {
   "cell_type": "code",
   "execution_count": 1,
   "id": "6be1cc27",
   "metadata": {},
   "outputs": [],
   "source": [
    "import numpy as np \n",
    "import pandas as pd \n",
    "import matplotlib.pyplot as plt  \n",
    "import seaborn as sns"
   ]
  },
  {
   "cell_type": "code",
   "execution_count": 2,
   "id": "7cb7eeae",
   "metadata": {},
   "outputs": [],
   "source": [
    " df = pd.read_excel('edp_f.xlsx')"
   ]
  },
  {
   "cell_type": "code",
   "execution_count": 3,
   "id": "bf77c5ca",
   "metadata": {},
   "outputs": [
    {
     "data": {
      "text/html": [
       "<div>\n",
       "<style scoped>\n",
       "    .dataframe tbody tr th:only-of-type {\n",
       "        vertical-align: middle;\n",
       "    }\n",
       "\n",
       "    .dataframe tbody tr th {\n",
       "        vertical-align: top;\n",
       "    }\n",
       "\n",
       "    .dataframe thead th {\n",
       "        text-align: right;\n",
       "    }\n",
       "</style>\n",
       "<table border=\"1\" class=\"dataframe\">\n",
       "  <thead>\n",
       "    <tr style=\"text-align: right;\">\n",
       "      <th></th>\n",
       "      <th>weather_condition</th>\n",
       "      <th>nearby_places</th>\n",
       "      <th>visibility</th>\n",
       "      <th>traffic_density</th>\n",
       "      <th>traffic_condition_min</th>\n",
       "      <th>suggested_speed</th>\n",
       "    </tr>\n",
       "  </thead>\n",
       "  <tbody>\n",
       "    <tr>\n",
       "      <th>0</th>\n",
       "      <td>haze</td>\n",
       "      <td>20</td>\n",
       "      <td>5000</td>\n",
       "      <td>1076</td>\n",
       "      <td>18</td>\n",
       "      <td>4.646840</td>\n",
       "    </tr>\n",
       "    <tr>\n",
       "      <th>1</th>\n",
       "      <td>haze</td>\n",
       "      <td>17</td>\n",
       "      <td>5000</td>\n",
       "      <td>1062</td>\n",
       "      <td>18</td>\n",
       "      <td>4.708098</td>\n",
       "    </tr>\n",
       "    <tr>\n",
       "      <th>2</th>\n",
       "      <td>haze</td>\n",
       "      <td>20</td>\n",
       "      <td>5000</td>\n",
       "      <td>1027</td>\n",
       "      <td>17</td>\n",
       "      <td>4.868549</td>\n",
       "    </tr>\n",
       "    <tr>\n",
       "      <th>3</th>\n",
       "      <td>haze</td>\n",
       "      <td>17</td>\n",
       "      <td>5000</td>\n",
       "      <td>983</td>\n",
       "      <td>16</td>\n",
       "      <td>5.086470</td>\n",
       "    </tr>\n",
       "    <tr>\n",
       "      <th>4</th>\n",
       "      <td>haze</td>\n",
       "      <td>20</td>\n",
       "      <td>5000</td>\n",
       "      <td>921</td>\n",
       "      <td>15</td>\n",
       "      <td>5.428882</td>\n",
       "    </tr>\n",
       "  </tbody>\n",
       "</table>\n",
       "</div>"
      ],
      "text/plain": [
       "  weather_condition  nearby_places visibility  traffic_density  \\\n",
       "0              haze             20       5000             1076   \n",
       "1              haze             17       5000             1062   \n",
       "2              haze             20       5000             1027   \n",
       "3              haze             17       5000              983   \n",
       "4              haze             20       5000              921   \n",
       "\n",
       "   traffic_condition_min  suggested_speed  \n",
       "0                     18         4.646840  \n",
       "1                     18         4.708098  \n",
       "2                     17         4.868549  \n",
       "3                     16         5.086470  \n",
       "4                     15         5.428882  "
      ]
     },
     "execution_count": 3,
     "metadata": {},
     "output_type": "execute_result"
    }
   ],
   "source": [
    "df.head()"
   ]
  },
  {
   "cell_type": "code",
   "execution_count": 4,
   "id": "e3bb7e59",
   "metadata": {},
   "outputs": [
    {
     "data": {
      "text/plain": [
       "weather_condition\n",
       "clear sky           301\n",
       "scattered clouds    280\n",
       "few clouds          267\n",
       "haze                260\n",
       "broken clouds        66\n",
       "overcast clouds      32\n",
       "Unknown               1\n",
       "Name: count, dtype: int64"
      ]
     },
     "execution_count": 4,
     "metadata": {},
     "output_type": "execute_result"
    }
   ],
   "source": [
    "df['weather_condition'].value_counts()"
   ]
  },
  {
   "cell_type": "code",
   "execution_count": 5,
   "id": "b4edeb3a",
   "metadata": {},
   "outputs": [
    {
     "name": "stdout",
     "output_type": "stream",
     "text": [
      "weather_condition\n",
      "clouds       645\n",
      "clear sky    301\n",
      "haze         260\n",
      "Unknown        1\n",
      "Name: count, dtype: int64\n"
     ]
    }
   ],
   "source": [
    "# Mapping existing categories to new categories\n",
    "weather_mapping = {\n",
    "    'clear sky': 'clear sky',\n",
    "    'scattered clouds': 'clouds',\n",
    "    'few clouds': 'clouds',\n",
    "    'haze': 'haze',\n",
    "    'broken clouds': 'clouds',\n",
    "    'overcast clouds': 'clouds'\n",
    "}\n",
    "\n",
    "# Replace categories in 'weather_condition' column\n",
    "df['weather_condition'] = df['weather_condition'].replace(weather_mapping)\n",
    "\n",
    "# Check the updated counts\n",
    "print(df['weather_condition'].value_counts())\n"
   ]
  },
  {
   "cell_type": "code",
   "execution_count": 6,
   "id": "89c5345d",
   "metadata": {},
   "outputs": [],
   "source": [
    "df = df[df['weather_condition']!='Unknown']"
   ]
  },
  {
   "cell_type": "code",
   "execution_count": 7,
   "id": "2ee85cdb",
   "metadata": {},
   "outputs": [
    {
     "data": {
      "text/plain": [
       "weather_condition\n",
       "clouds       645\n",
       "clear sky    301\n",
       "haze         260\n",
       "Name: count, dtype: int64"
      ]
     },
     "execution_count": 7,
     "metadata": {},
     "output_type": "execute_result"
    }
   ],
   "source": [
    "df['weather_condition'].value_counts()"
   ]
  },
  {
   "cell_type": "code",
   "execution_count": 8,
   "id": "925ff468",
   "metadata": {},
   "outputs": [
    {
     "data": {
      "text/plain": [
       "(1206, 6)"
      ]
     },
     "execution_count": 8,
     "metadata": {},
     "output_type": "execute_result"
    }
   ],
   "source": [
    "df.shape"
   ]
  },
  {
   "cell_type": "code",
   "execution_count": 9,
   "id": "547c565e",
   "metadata": {},
   "outputs": [
    {
     "data": {
      "text/html": [
       "<div>\n",
       "<style scoped>\n",
       "    .dataframe tbody tr th:only-of-type {\n",
       "        vertical-align: middle;\n",
       "    }\n",
       "\n",
       "    .dataframe tbody tr th {\n",
       "        vertical-align: top;\n",
       "    }\n",
       "\n",
       "    .dataframe thead th {\n",
       "        text-align: right;\n",
       "    }\n",
       "</style>\n",
       "<table border=\"1\" class=\"dataframe\">\n",
       "  <thead>\n",
       "    <tr style=\"text-align: right;\">\n",
       "      <th></th>\n",
       "      <th>weather_condition</th>\n",
       "      <th>nearby_places</th>\n",
       "      <th>visibility</th>\n",
       "      <th>traffic_density</th>\n",
       "      <th>traffic_condition_min</th>\n",
       "      <th>suggested_speed</th>\n",
       "    </tr>\n",
       "  </thead>\n",
       "  <tbody>\n",
       "    <tr>\n",
       "      <th>1202</th>\n",
       "      <td>clouds</td>\n",
       "      <td>7</td>\n",
       "      <td>10000</td>\n",
       "      <td>608</td>\n",
       "      <td>10</td>\n",
       "      <td>8.223684</td>\n",
       "    </tr>\n",
       "    <tr>\n",
       "      <th>1203</th>\n",
       "      <td>clouds</td>\n",
       "      <td>13</td>\n",
       "      <td>10000</td>\n",
       "      <td>663</td>\n",
       "      <td>11</td>\n",
       "      <td>7.541478</td>\n",
       "    </tr>\n",
       "    <tr>\n",
       "      <th>1204</th>\n",
       "      <td>clear sky</td>\n",
       "      <td>9</td>\n",
       "      <td>10000</td>\n",
       "      <td>661</td>\n",
       "      <td>11</td>\n",
       "      <td>7.564297</td>\n",
       "    </tr>\n",
       "    <tr>\n",
       "      <th>1205</th>\n",
       "      <td>clouds</td>\n",
       "      <td>20</td>\n",
       "      <td>10000</td>\n",
       "      <td>640</td>\n",
       "      <td>11</td>\n",
       "      <td>7.812500</td>\n",
       "    </tr>\n",
       "    <tr>\n",
       "      <th>1206</th>\n",
       "      <td>clouds</td>\n",
       "      <td>0</td>\n",
       "      <td>10000</td>\n",
       "      <td>468</td>\n",
       "      <td>8</td>\n",
       "      <td>10.683761</td>\n",
       "    </tr>\n",
       "  </tbody>\n",
       "</table>\n",
       "</div>"
      ],
      "text/plain": [
       "     weather_condition  nearby_places visibility  traffic_density  \\\n",
       "1202            clouds              7      10000              608   \n",
       "1203            clouds             13      10000              663   \n",
       "1204         clear sky              9      10000              661   \n",
       "1205            clouds             20      10000              640   \n",
       "1206            clouds              0      10000              468   \n",
       "\n",
       "      traffic_condition_min  suggested_speed  \n",
       "1202                     10         8.223684  \n",
       "1203                     11         7.541478  \n",
       "1204                     11         7.564297  \n",
       "1205                     11         7.812500  \n",
       "1206                      8        10.683761  "
      ]
     },
     "execution_count": 9,
     "metadata": {},
     "output_type": "execute_result"
    }
   ],
   "source": [
    "df.tail()"
   ]
  },
  {
   "cell_type": "code",
   "execution_count": 10,
   "id": "7ff75a76",
   "metadata": {},
   "outputs": [
    {
     "data": {
      "text/plain": [
       "weather_condition        1206\n",
       "nearby_places            1206\n",
       "visibility               1206\n",
       "traffic_density          1206\n",
       "traffic_condition_min    1206\n",
       "suggested_speed          1206\n",
       "dtype: int64"
      ]
     },
     "execution_count": 10,
     "metadata": {},
     "output_type": "execute_result"
    }
   ],
   "source": [
    "df.count()"
   ]
  },
  {
   "cell_type": "code",
   "execution_count": 11,
   "id": "348fba1e",
   "metadata": {},
   "outputs": [
    {
     "data": {
      "text/plain": [
       "weather_condition        0\n",
       "nearby_places            0\n",
       "visibility               0\n",
       "traffic_density          0\n",
       "traffic_condition_min    0\n",
       "suggested_speed          0\n",
       "dtype: int64"
      ]
     },
     "execution_count": 11,
     "metadata": {},
     "output_type": "execute_result"
    }
   ],
   "source": [
    "df.isnull().sum()"
   ]
  },
  {
   "cell_type": "code",
   "execution_count": 12,
   "id": "f9953f8b",
   "metadata": {},
   "outputs": [
    {
     "name": "stdout",
     "output_type": "stream",
     "text": [
      "<class 'pandas.core.frame.DataFrame'>\n",
      "Index: 1206 entries, 0 to 1206\n",
      "Data columns (total 6 columns):\n",
      " #   Column                 Non-Null Count  Dtype  \n",
      "---  ------                 --------------  -----  \n",
      " 0   weather_condition      1206 non-null   object \n",
      " 1   nearby_places          1206 non-null   int64  \n",
      " 2   visibility             1206 non-null   object \n",
      " 3   traffic_density        1206 non-null   int64  \n",
      " 4   traffic_condition_min  1206 non-null   int64  \n",
      " 5   suggested_speed        1206 non-null   float64\n",
      "dtypes: float64(1), int64(3), object(2)\n",
      "memory usage: 66.0+ KB\n"
     ]
    }
   ],
   "source": [
    "df.info()"
   ]
  },
  {
   "cell_type": "code",
   "execution_count": 13,
   "id": "1a52308a",
   "metadata": {},
   "outputs": [
    {
     "data": {
      "text/html": [
       "<div>\n",
       "<style scoped>\n",
       "    .dataframe tbody tr th:only-of-type {\n",
       "        vertical-align: middle;\n",
       "    }\n",
       "\n",
       "    .dataframe tbody tr th {\n",
       "        vertical-align: top;\n",
       "    }\n",
       "\n",
       "    .dataframe thead th {\n",
       "        text-align: right;\n",
       "    }\n",
       "</style>\n",
       "<table border=\"1\" class=\"dataframe\">\n",
       "  <thead>\n",
       "    <tr style=\"text-align: right;\">\n",
       "      <th></th>\n",
       "      <th>nearby_places</th>\n",
       "      <th>traffic_density</th>\n",
       "      <th>traffic_condition_min</th>\n",
       "      <th>suggested_speed</th>\n",
       "    </tr>\n",
       "  </thead>\n",
       "  <tbody>\n",
       "    <tr>\n",
       "      <th>count</th>\n",
       "      <td>1206.000000</td>\n",
       "      <td>1206.000000</td>\n",
       "      <td>1206.000000</td>\n",
       "      <td>1206.000000</td>\n",
       "    </tr>\n",
       "    <tr>\n",
       "      <th>mean</th>\n",
       "      <td>15.229685</td>\n",
       "      <td>736.394693</td>\n",
       "      <td>12.280265</td>\n",
       "      <td>7.591739</td>\n",
       "    </tr>\n",
       "    <tr>\n",
       "      <th>std</th>\n",
       "      <td>6.454782</td>\n",
       "      <td>222.600508</td>\n",
       "      <td>3.711736</td>\n",
       "      <td>3.051251</td>\n",
       "    </tr>\n",
       "    <tr>\n",
       "      <th>min</th>\n",
       "      <td>0.000000</td>\n",
       "      <td>194.000000</td>\n",
       "      <td>3.000000</td>\n",
       "      <td>3.298153</td>\n",
       "    </tr>\n",
       "    <tr>\n",
       "      <th>25%</th>\n",
       "      <td>12.000000</td>\n",
       "      <td>583.250000</td>\n",
       "      <td>10.000000</td>\n",
       "      <td>5.664119</td>\n",
       "    </tr>\n",
       "    <tr>\n",
       "      <th>50%</th>\n",
       "      <td>20.000000</td>\n",
       "      <td>716.000000</td>\n",
       "      <td>12.000000</td>\n",
       "      <td>6.983240</td>\n",
       "    </tr>\n",
       "    <tr>\n",
       "      <th>75%</th>\n",
       "      <td>20.000000</td>\n",
       "      <td>882.750000</td>\n",
       "      <td>15.000000</td>\n",
       "      <td>8.572658</td>\n",
       "    </tr>\n",
       "    <tr>\n",
       "      <th>max</th>\n",
       "      <td>20.000000</td>\n",
       "      <td>1516.000000</td>\n",
       "      <td>25.000000</td>\n",
       "      <td>25.773196</td>\n",
       "    </tr>\n",
       "  </tbody>\n",
       "</table>\n",
       "</div>"
      ],
      "text/plain": [
       "       nearby_places  traffic_density  traffic_condition_min  suggested_speed\n",
       "count    1206.000000      1206.000000            1206.000000      1206.000000\n",
       "mean       15.229685       736.394693              12.280265         7.591739\n",
       "std         6.454782       222.600508               3.711736         3.051251\n",
       "min         0.000000       194.000000               3.000000         3.298153\n",
       "25%        12.000000       583.250000              10.000000         5.664119\n",
       "50%        20.000000       716.000000              12.000000         6.983240\n",
       "75%        20.000000       882.750000              15.000000         8.572658\n",
       "max        20.000000      1516.000000              25.000000        25.773196"
      ]
     },
     "execution_count": 13,
     "metadata": {},
     "output_type": "execute_result"
    }
   ],
   "source": [
    "df.describe()"
   ]
  },
  {
   "cell_type": "code",
   "execution_count": 14,
   "id": "4aa8e92f",
   "metadata": {},
   "outputs": [
    {
     "data": {
      "image/png": "[encoded data removed]",
      "text/plain": [
       "<Figure size 640x480 with 1 Axes>"
      ]
     },
     "metadata": {},
     "output_type": "display_data"
    }
   ],
   "source": [
    "sns.countplot(x='weather_condition' , data = df) \n",
    "plt.title('Weather Condition distribution') \n",
    "plt.show()"
   ]
  },
  {
   "cell_type": "code",
   "execution_count": 15,
   "id": "d236539f",
   "metadata": {},
   "outputs": [
    {
     "data": {
      "image/png": "[encoded data removed]",
      "text/plain": [
       "<Figure size 800x600 with 1 Axes>"
      ]
     },
     "metadata": {},
     "output_type": "display_data"
    }
   ],
   "source": [
    "plt.figure(figsize=(8, 6))\n",
    "sns.scatterplot(x='visibility', y='suggested_speed', data=df)\n",
    "plt.title('Visibility vs Suggested Speed')\n",
    "plt.xlabel('Visibility')\n",
    "plt.ylabel('Suggested Speed')\n",
    "plt.show()"
   ]
  },
  {
   "cell_type": "code",
   "execution_count": 16,
   "id": "d6ac1e09",
   "metadata": {},
   "outputs": [
    {
     "data": {
      "text/html": [
       "<div>\n",
       "<style scoped>\n",
       "    .dataframe tbody tr th:only-of-type {\n",
       "        vertical-align: middle;\n",
       "    }\n",
       "\n",
       "    .dataframe tbody tr th {\n",
       "        vertical-align: top;\n",
       "    }\n",
       "\n",
       "    .dataframe thead th {\n",
       "        text-align: right;\n",
       "    }\n",
       "</style>\n",
       "<table border=\"1\" class=\"dataframe\">\n",
       "  <thead>\n",
       "    <tr style=\"text-align: right;\">\n",
       "      <th></th>\n",
       "      <th>weather_condition</th>\n",
       "      <th>nearby_places</th>\n",
       "      <th>visibility</th>\n",
       "      <th>traffic_density</th>\n",
       "      <th>traffic_condition_min</th>\n",
       "      <th>suggested_speed</th>\n",
       "    </tr>\n",
       "  </thead>\n",
       "  <tbody>\n",
       "    <tr>\n",
       "      <th>174</th>\n",
       "      <td>clouds</td>\n",
       "      <td>20</td>\n",
       "      <td>6000</td>\n",
       "      <td>910</td>\n",
       "      <td>15</td>\n",
       "      <td>5.494505</td>\n",
       "    </tr>\n",
       "    <tr>\n",
       "      <th>915</th>\n",
       "      <td>clouds</td>\n",
       "      <td>20</td>\n",
       "      <td>6000</td>\n",
       "      <td>643</td>\n",
       "      <td>11</td>\n",
       "      <td>7.776050</td>\n",
       "    </tr>\n",
       "    <tr>\n",
       "      <th>877</th>\n",
       "      <td>clouds</td>\n",
       "      <td>20</td>\n",
       "      <td>6000</td>\n",
       "      <td>660</td>\n",
       "      <td>11</td>\n",
       "      <td>7.575758</td>\n",
       "    </tr>\n",
       "    <tr>\n",
       "      <th>1144</th>\n",
       "      <td>clear sky</td>\n",
       "      <td>9</td>\n",
       "      <td>10000</td>\n",
       "      <td>535</td>\n",
       "      <td>9</td>\n",
       "      <td>9.345794</td>\n",
       "    </tr>\n",
       "    <tr>\n",
       "      <th>390</th>\n",
       "      <td>haze</td>\n",
       "      <td>20</td>\n",
       "      <td>4500</td>\n",
       "      <td>903</td>\n",
       "      <td>15</td>\n",
       "      <td>5.537099</td>\n",
       "    </tr>\n",
       "  </tbody>\n",
       "</table>\n",
       "</div>"
      ],
      "text/plain": [
       "     weather_condition  nearby_places visibility  traffic_density  \\\n",
       "174             clouds             20       6000              910   \n",
       "915             clouds             20       6000              643   \n",
       "877             clouds             20       6000              660   \n",
       "1144         clear sky              9      10000              535   \n",
       "390               haze             20       4500              903   \n",
       "\n",
       "      traffic_condition_min  suggested_speed  \n",
       "174                      15         5.494505  \n",
       "915                      11         7.776050  \n",
       "877                      11         7.575758  \n",
       "1144                      9         9.345794  \n",
       "390                      15         5.537099  "
      ]
     },
     "execution_count": 16,
     "metadata": {},
     "output_type": "execute_result"
    }
   ],
   "source": [
    "df.sample(5)"
   ]
  },
  {
   "cell_type": "code",
   "execution_count": 20,
   "id": "a49bfd01",
   "metadata": {},
   "outputs": [
    {
     "name": "stdout",
     "output_type": "stream",
     "text": [
      "['haze' 'clouds' 'clear sky']\n"
     ]
    }
   ],
   "source": [
    "unique_weather_conditions = df['weather_condition'].unique()\n",
    "print(unique_weather_conditions)\n"
   ]
  },
  {
   "cell_type": "code",
   "execution_count": 21,
   "id": "fc97d1ea",
   "metadata": {},
   "outputs": [],
   "source": [
    "# Perform one-hot encoding with explicit specification of categories\n",
    "df_encoded = pd.get_dummies(df, columns=['weather_condition'], drop_first=True, \n",
    "                            prefix='weather', prefix_sep='_', dummy_na=False)\n"
   ]
  },
  {
   "cell_type": "code",
   "execution_count": 22,
   "id": "c8037f2e",
   "metadata": {},
   "outputs": [
    {
     "data": {
      "text/html": [
       "<div>\n",
       "<style scoped>\n",
       "    .dataframe tbody tr th:only-of-type {\n",
       "        vertical-align: middle;\n",
       "    }\n",
       "\n",
       "    .dataframe tbody tr th {\n",
       "        vertical-align: top;\n",
       "    }\n",
       "\n",
       "    .dataframe thead th {\n",
       "        text-align: right;\n",
       "    }\n",
       "</style>\n",
       "<table border=\"1\" class=\"dataframe\">\n",
       "  <thead>\n",
       "    <tr style=\"text-align: right;\">\n",
       "      <th></th>\n",
       "      <th>nearby_places</th>\n",
       "      <th>visibility</th>\n",
       "      <th>traffic_density</th>\n",
       "      <th>traffic_condition_min</th>\n",
       "      <th>suggested_speed</th>\n",
       "      <th>weather_clouds</th>\n",
       "      <th>weather_haze</th>\n",
       "    </tr>\n",
       "  </thead>\n",
       "  <tbody>\n",
       "    <tr>\n",
       "      <th>842</th>\n",
       "      <td>15</td>\n",
       "      <td>6000</td>\n",
       "      <td>554</td>\n",
       "      <td>9</td>\n",
       "      <td>9.025271</td>\n",
       "      <td>True</td>\n",
       "      <td>False</td>\n",
       "    </tr>\n",
       "    <tr>\n",
       "      <th>905</th>\n",
       "      <td>20</td>\n",
       "      <td>6000</td>\n",
       "      <td>607</td>\n",
       "      <td>10</td>\n",
       "      <td>8.237232</td>\n",
       "      <td>True</td>\n",
       "      <td>False</td>\n",
       "    </tr>\n",
       "    <tr>\n",
       "      <th>793</th>\n",
       "      <td>20</td>\n",
       "      <td>10000</td>\n",
       "      <td>935</td>\n",
       "      <td>16</td>\n",
       "      <td>5.347594</td>\n",
       "      <td>False</td>\n",
       "      <td>False</td>\n",
       "    </tr>\n",
       "    <tr>\n",
       "      <th>896</th>\n",
       "      <td>20</td>\n",
       "      <td>6000</td>\n",
       "      <td>1028</td>\n",
       "      <td>17</td>\n",
       "      <td>4.863813</td>\n",
       "      <td>True</td>\n",
       "      <td>False</td>\n",
       "    </tr>\n",
       "    <tr>\n",
       "      <th>286</th>\n",
       "      <td>1</td>\n",
       "      <td>10000</td>\n",
       "      <td>622</td>\n",
       "      <td>10</td>\n",
       "      <td>8.038585</td>\n",
       "      <td>False</td>\n",
       "      <td>False</td>\n",
       "    </tr>\n",
       "  </tbody>\n",
       "</table>\n",
       "</div>"
      ],
      "text/plain": [
       "     nearby_places visibility  traffic_density  traffic_condition_min  \\\n",
       "842             15       6000              554                      9   \n",
       "905             20       6000              607                     10   \n",
       "793             20      10000              935                     16   \n",
       "896             20       6000             1028                     17   \n",
       "286              1      10000              622                     10   \n",
       "\n",
       "     suggested_speed  weather_clouds  weather_haze  \n",
       "842         9.025271            True         False  \n",
       "905         8.237232            True         False  \n",
       "793         5.347594           False         False  \n",
       "896         4.863813            True         False  \n",
       "286         8.038585           False         False  "
      ]
     },
     "execution_count": 22,
     "metadata": {},
     "output_type": "execute_result"
    }
   ],
   "source": [
    "df_encoded.sample(5)"
   ]
  },
  {
   "cell_type": "code",
   "execution_count": 23,
   "id": "312a40a7",
   "metadata": {},
   "outputs": [
    {
     "data": {
      "image/png": "[encoded data removed]",
      "text/plain": [
       "<Figure size 1000x800 with 2 Axes>"
      ]
     },
     "metadata": {},
     "output_type": "display_data"
    }
   ],
   "source": [
    "# Correlation matrix\n",
    "plt.figure(figsize=(10, 8))\n",
    "sns.heatmap(df_encoded.corr(), annot=True, cmap='coolwarm', fmt=\".2f\")\n",
    "plt.title('Correlation Matrix')\n",
    "plt.show()"
   ]
  },
  {
   "cell_type": "code",
   "execution_count": 25,
   "id": "ef287da2",
   "metadata": {},
   "outputs": [
    {
     "data": {
      "image/png": "[encoded data removed]",
      "text/plain": [
       "<Figure size 800x600 with 1 Axes>"
      ]
     },
     "metadata": {},
     "output_type": "display_data"
    },
    {
     "name": "stdout",
     "output_type": "stream",
     "text": [
      "nearby_places            0\n",
      "visibility               0\n",
      "traffic_density          0\n",
      "traffic_condition_min    0\n",
      "suggested_speed          0\n",
      "weather_clouds           0\n",
      "weather_haze             0\n",
      "dtype: int64\n"
     ]
    }
   ],
   "source": [
    "# Example further analysis\n",
    "# Box plot of traffic density\n",
    "plt.figure(figsize=(8, 6))\n",
    "sns.boxplot(y='traffic_density', data=df_encoded)\n",
    "plt.title('Traffic Density Distribution')\n",
    "plt.ylabel('Traffic Density')\n",
    "plt.show()\n",
    "\n",
    "# Check for missing values\n",
    "print(df_encoded.isnull().sum())\n"
   ]
  },
  {
   "cell_type": "markdown",
   "id": "928532ba",
   "metadata": {},
   "source": [
    "# Random Forest Algorithm:\n",
    "Random Forest Regressor builds multiple decision trees during training.\n",
    "Each decision tree is trained on a random subset of the training data (bootstrap samples) and a random subset of the features.\n",
    "This randomness helps in reducing overfitting and improving generalization.\n",
    "During prediction, each decision tree in the forest predicts an output, and the final prediction is the average (for regression) of all individual tree predictions."
   ]
  },
  {
   "cell_type": "code",
   "execution_count": 26,
   "id": "26a49955",
   "metadata": {},
   "outputs": [
    {
     "name": "stdout",
     "output_type": "stream",
     "text": [
      "Mean Squared Error: 0.0017862021492174472\n"
     ]
    }
   ],
   "source": [
    "from sklearn.model_selection import train_test_split\n",
    "from sklearn.ensemble import RandomForestRegressor\n",
    "from sklearn.metrics import mean_squared_error\n",
    "\n",
    "\n",
    "X = df_encoded.drop(columns=['suggested_speed'])\n",
    "y = df_encoded['suggested_speed']\n",
    "\n",
    "X_train, X_test, y_train, y_test = train_test_split(X, y, test_size=0.2, random_state=42)\n",
    "\n",
    "# Creating and training the Random Forest Regression model\n",
    "rf_model = RandomForestRegressor(n_estimators=100, random_state=42)\n",
    "rf_model.fit(X_train, y_train)\n",
    "\n",
    "# Making predictions on the test set\n",
    "y_pred = rf_model.predict(X_test)\n",
    "\n",
    "# Evaluating the model\n",
    "mse = mean_squared_error(y_test, y_pred)\n",
    "print(\"Mean Squared Error:\", mse)\n"
   ]
  },
  {
   "cell_type": "markdown",
   "id": "afcc0885",
   "metadata": {},
   "source": [
    "# The R-squared (R2) score and mean absolute error (MAE) are both metrics used to evaluate the performance of regression models:\n",
    "\n",
    "R-squared (R2) Score:\n",
    "R-squared is a statistical measure that represents the proportion of the variance in the dependent variable (target) that is explained by the independent variables (features) in the model.\n",
    "It ranges from 0 to 1, where:\n",
    "0 indicates that the model does not explain any of the variability in the target variable.\n",
    "1 indicates that the model perfectly explains the variability in the target variable.\n",
    "In other words, R2 measures how well the model fits the observed data.\n",
    "However, R2 does not indicate whether the model's predictions are accurate or unbiased, only how well the model fits the data.\n",
    "Mean Absolute Error (MAE):\n",
    "MAE is a metric that measures the average absolute difference between the predicted values and the actual values of the target variable.\n",
    "It provides a measure of the average magnitude of errors in the predictions.\n",
    "Unlike the R2 score, which is relative and ranges from 0 to 1, MAE is an absolute measure and is in the same units as the target variable.\n",
    "Lower values of MAE indicate better model performance, as they represent smaller errors between predicted and actual values."
   ]
  },
  {
   "cell_type": "code",
   "execution_count": 27,
   "id": "b962bb3d",
   "metadata": {},
   "outputs": [
    {
     "name": "stdout",
     "output_type": "stream",
     "text": [
      "R-squared Score: 0.9998384721829336\n",
      "Mean Absolute Error: 0.013008714521199947\n"
     ]
    }
   ],
   "source": [
    "from sklearn.metrics import r2_score, mean_absolute_error\n",
    "\n",
    "# Calculate R-squared score\n",
    "r2 = r2_score(y_test, y_pred)\n",
    "print(\"R-squared Score:\", r2)\n",
    "\n",
    "# Calculate mean absolute error (MAE)\n",
    "mae = mean_absolute_error(y_test, y_pred)\n",
    "print(\"Mean Absolute Error:\", mae)\n"
   ]
  },
  {
   "cell_type": "code",
   "execution_count": 31,
   "id": "b5bfcaa8",
   "metadata": {},
   "outputs": [
    {
     "name": "stdout",
     "output_type": "stream",
     "text": [
      "Predicted Suggested Speed: 25.29769758860428\n"
     ]
    }
   ],
   "source": [
    "def predict_suggested_speed(model, nearby_places, visibility, traffic_density, traffic_condition_min, weather_clouds, weather_haze):\n",
    "    # Create a DataFrame with input parameters\n",
    "    input_data = pd.DataFrame({\n",
    "        'nearby_places': [nearby_places],\n",
    "        'visibility': [visibility],\n",
    "        'traffic_density': [traffic_density],\n",
    "        'traffic_condition_min': [traffic_condition_min],\n",
    "        'weather_clouds': [weather_clouds],\n",
    "        'weather_haze': [weather_haze]\n",
    "    })\n",
    "    \n",
    "    # Make prediction using the model\n",
    "    predicted_speed = model.predict(input_data)\n",
    "    \n",
    "    return predicted_speed[0]\n",
    "\n",
    "# Example usage:\n",
    "# Assuming rf_model is your trained Random Forest Regression model\n",
    "\n",
    "predicted_speed = predict_suggested_speed(rf_model, nearby_places=1, visibility=8000, traffic_density=60, traffic_condition_min=2, weather_clouds=False, weather_haze=False)\n",
    "print(\"Predicted Suggested Speed:\", predicted_speed)\n"
   ]
  },
  {
   "cell_type": "code",
   "execution_count": null,
   "id": "7ea01410",
   "metadata": {},
   "outputs": [],
   "source": []
  }
 ],
 "metadata": {
  "kernelspec": {
   "display_name": "Python 3 (ipykernel)",
   "language": "python",
   "name": "python3"
  },
  "language_info": {
   "codemirror_mode": {
    "name": "ipython",
    "version": 3
   },
   "file_extension": ".py",
   "mimetype": "text/x-python",
   "name": "python",
   "nbconvert_exporter": "python",
   "pygments_lexer": "ipython3",
   "version": "3.11.5"
  }
 },
 "nbformat": 4,
 "nbformat_minor": 5
}
